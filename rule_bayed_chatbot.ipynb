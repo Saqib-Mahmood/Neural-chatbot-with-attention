{
  "nbformat": 4,
  "nbformat_minor": 0,
  "metadata": {
    "colab": {
      "name": "Untitled18.ipynb",
      "provenance": [],
      "include_colab_link": true
    },
    "kernelspec": {
      "name": "python3",
      "display_name": "Python 3"
    },
    "accelerator": "GPU"
  },
  "cells": [
    {
      "cell_type": "markdown",
      "metadata": {
        "id": "view-in-github",
        "colab_type": "text"
      },
      "source": [
        "<a href=\"https://colab.research.google.com/github/Saqib-Mahmood/Neural-chatbot-with-attention/blob/master/rule_bayed_chatbot.ipynb\" target=\"_parent\"><img src=\"https://colab.research.google.com/assets/colab-badge.svg\" alt=\"Open In Colab\"/></a>"
      ]
    },
    {
      "cell_type": "code",
      "metadata": {
        "id": "PZ_i8mBT1thB",
        "colab_type": "code",
        "colab": {
          "base_uri": "https://localhost:8080/",
          "height": 104
        },
        "outputId": "6da6edbd-8c4e-43ee-e4b4-57b91f883a78"
      },
      "source": [
        "!git clone https://github.com/adamsk34/Tom-Chatbot"
      ],
      "execution_count": 1,
      "outputs": [
        {
          "output_type": "stream",
          "text": [
            "Cloning into 'Tom-Chatbot'...\n",
            "remote: Enumerating objects: 241, done.\u001b[K\n",
            "Receiving objects:   0% (1/241)   \rReceiving objects:   1% (3/241)   \rReceiving objects:   2% (5/241)   \rReceiving objects:   3% (8/241)   \rReceiving objects:   4% (10/241)   \rReceiving objects:   5% (13/241)   \rReceiving objects:   6% (15/241)   \rReceiving objects:   7% (17/241)   \rReceiving objects:   8% (20/241)   \rReceiving objects:   9% (22/241)   \rReceiving objects:  10% (25/241)   \rReceiving objects:  11% (27/241)   \rReceiving objects:  12% (29/241)   \rReceiving objects:  13% (32/241)   \rReceiving objects:  14% (34/241)   \rReceiving objects:  15% (37/241)   \rReceiving objects:  16% (39/241)   \rReceiving objects:  17% (41/241)   \rReceiving objects:  18% (44/241)   \rReceiving objects:  19% (46/241)   \rReceiving objects:  20% (49/241)   \rReceiving objects:  21% (51/241)   \rReceiving objects:  22% (54/241)   \rReceiving objects:  23% (56/241)   \rReceiving objects:  24% (58/241)   \rReceiving objects:  25% (61/241)   \rReceiving objects:  26% (63/241)   \rReceiving objects:  27% (66/241)   \rReceiving objects:  28% (68/241)   \rReceiving objects:  29% (70/241)   \rReceiving objects:  30% (73/241)   \rReceiving objects:  31% (75/241)   \rReceiving objects:  32% (78/241)   \rReceiving objects:  33% (80/241)   \rReceiving objects:  34% (82/241)   \rReceiving objects:  35% (85/241)   \rReceiving objects:  36% (87/241)   \rReceiving objects:  37% (90/241)   \rReceiving objects:  38% (92/241)   \rReceiving objects:  39% (94/241)   \rReceiving objects:  40% (97/241)   \rReceiving objects:  41% (99/241)   \rReceiving objects:  42% (102/241)   \rReceiving objects:  43% (104/241)   \rReceiving objects:  44% (107/241)   \rReceiving objects:  45% (109/241)   \rReceiving objects:  46% (111/241)   \rReceiving objects:  47% (114/241)   \rReceiving objects:  48% (116/241)   \rReceiving objects:  49% (119/241)   \rReceiving objects:  50% (121/241)   \rReceiving objects:  51% (123/241)   \rReceiving objects:  52% (126/241)   \rReceiving objects:  53% (128/241)   \rReceiving objects:  54% (131/241)   \rReceiving objects:  55% (133/241)   \rReceiving objects:  56% (135/241)   \rReceiving objects:  57% (138/241)   \rReceiving objects:  58% (140/241)   \rReceiving objects:  59% (143/241)   \rReceiving objects:  60% (145/241)   \rremote: Total 241 (delta 0), reused 0 (delta 0), pack-reused 241\u001b[K\n",
            "Receiving objects:  61% (148/241)   \rReceiving objects:  62% (150/241)   \rReceiving objects:  63% (152/241)   \rReceiving objects:  64% (155/241)   \rReceiving objects:  65% (157/241)   \rReceiving objects:  66% (160/241)   \rReceiving objects:  67% (162/241)   \rReceiving objects:  68% (164/241)   \rReceiving objects:  69% (167/241)   \rReceiving objects:  70% (169/241)   \rReceiving objects:  71% (172/241)   \rReceiving objects:  72% (174/241)   \rReceiving objects:  73% (176/241)   \rReceiving objects:  74% (179/241)   \rReceiving objects:  75% (181/241)   \rReceiving objects:  76% (184/241)   \rReceiving objects:  77% (186/241)   \rReceiving objects:  78% (188/241)   \rReceiving objects:  79% (191/241)   \rReceiving objects:  80% (193/241)   \rReceiving objects:  81% (196/241)   \rReceiving objects:  82% (198/241)   \rReceiving objects:  83% (201/241)   \rReceiving objects:  84% (203/241)   \rReceiving objects:  85% (205/241)   \rReceiving objects:  86% (208/241)   \rReceiving objects:  87% (210/241)   \rReceiving objects:  88% (213/241)   \rReceiving objects:  89% (215/241)   \rReceiving objects:  90% (217/241)   \rReceiving objects:  91% (220/241)   \rReceiving objects:  92% (222/241)   \rReceiving objects:  93% (225/241)   \rReceiving objects:  94% (227/241)   \rReceiving objects:  95% (229/241)   \rReceiving objects:  96% (232/241)   \rReceiving objects:  97% (234/241)   \rReceiving objects:  98% (237/241)   \rReceiving objects:  99% (239/241)   \rReceiving objects: 100% (241/241)   \rReceiving objects: 100% (241/241), 245.55 KiB | 9.82 MiB/s, done.\n",
            "Resolving deltas:   0% (0/100)   \rResolving deltas:   9% (9/100)   \rResolving deltas:  11% (11/100)   \rResolving deltas:  12% (12/100)   \rResolving deltas:  13% (13/100)   \rResolving deltas:  14% (14/100)   \rResolving deltas:  15% (15/100)   \rResolving deltas:  16% (16/100)   \rResolving deltas:  18% (18/100)   \rResolving deltas:  19% (19/100)   \rResolving deltas:  20% (20/100)   \rResolving deltas:  21% (21/100)   \rResolving deltas:  24% (24/100)   \rResolving deltas:  26% (26/100)   \rResolving deltas:  28% (28/100)   \rResolving deltas:  30% (30/100)   \rResolving deltas:  39% (39/100)   \rResolving deltas:  42% (42/100)   \rResolving deltas:  43% (43/100)   \rResolving deltas:  46% (46/100)   \rResolving deltas:  51% (51/100)   \rResolving deltas:  55% (55/100)   \rResolving deltas:  58% (58/100)   \rResolving deltas:  59% (59/100)   \rResolving deltas:  60% (60/100)   \rResolving deltas:  62% (62/100)   \rResolving deltas:  63% (63/100)   \rResolving deltas:  64% (64/100)   \rResolving deltas:  65% (65/100)   \rResolving deltas:  66% (66/100)   \rResolving deltas:  68% (68/100)   \rResolving deltas:  70% (70/100)   \rResolving deltas:  71% (71/100)   \rResolving deltas:  72% (72/100)   \rResolving deltas:  73% (73/100)   \rResolving deltas:  74% (74/100)   \rResolving deltas:  75% (75/100)   \rResolving deltas:  76% (76/100)   \rResolving deltas:  77% (77/100)   \rResolving deltas:  81% (81/100)   \rResolving deltas:  82% (82/100)   \rResolving deltas:  83% (83/100)   \rResolving deltas:  85% (85/100)   \rResolving deltas:  88% (88/100)   \rResolving deltas:  89% (89/100)   \rResolving deltas:  93% (93/100)   \rResolving deltas:  94% (94/100)   \rResolving deltas: 100% (100/100)   \rResolving deltas: 100% (100/100), done.\n"
          ],
          "name": "stdout"
        }
      ]
    },
    {
      "cell_type": "code",
      "metadata": {
        "id": "xLz6gC2s16YW",
        "colab_type": "code",
        "colab": {}
      },
      "source": [
        "!mv Tom-Chatbot/* ."
      ],
      "execution_count": 0,
      "outputs": []
    },
    {
      "cell_type": "code",
      "metadata": {
        "id": "4a_6Ayd12ETy",
        "colab_type": "code",
        "colab": {
          "base_uri": "https://localhost:8080/",
          "height": 34
        },
        "outputId": "6a8a37e3-7c81-4c18-8ca5-eeaac7f45046"
      },
      "source": [
        "%cd src/"
      ],
      "execution_count": 4,
      "outputs": [
        {
          "output_type": "stream",
          "text": [
            "/content/src\n"
          ],
          "name": "stdout"
        }
      ]
    },
    {
      "cell_type": "code",
      "metadata": {
        "id": "CEn4QYZq4rVu",
        "colab_type": "code",
        "colab": {}
      },
      "source": [
        "!javac App.java"
      ],
      "execution_count": 0,
      "outputs": []
    },
    {
      "cell_type": "code",
      "metadata": {
        "id": "A7FLB56u44z4",
        "colab_type": "code",
        "colab": {
          "base_uri": "https://localhost:8080/",
          "height": 416
        },
        "outputId": "fc3d8b6c-181d-4513-a01a-ee0c72440417"
      },
      "source": [
        "!java App"
      ],
      "execution_count": 8,
      "outputs": [
        {
          "output_type": "stream",
          "text": [
            "Hello, I'm Tom! Enter a query below: (\"quit\" or 'q' to quit ; \"world\" or 'w' to see my world model)\n",
            "Hi\n",
            "how are you?\n",
            "i am fine\n",
            "what are you name?\n",
            "saqib\n",
            "what are you gender?\n",
            "male\n",
            "what do you do for work?\n",
            "student\n",
            "what school do you go to?\n",
            "uet\n",
            "how old are you?\n",
            "20\n",
            "where do you come from?\n",
            "hostel XD\n",
            "\n",
            "what is your name.\n",
            "My name is tom.\n",
            "that is nice name\n",
            "\n",
            "hey\n",
            "\n"
          ],
          "name": "stdout"
        }
      ]
    },
    {
      "cell_type": "code",
      "metadata": {
        "id": "AdRUtWut5Kyl",
        "colab_type": "code",
        "colab": {}
      },
      "source": [
        ""
      ],
      "execution_count": 0,
      "outputs": []
    }
  ]
}